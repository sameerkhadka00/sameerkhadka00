{
  "nbformat": 4,
  "nbformat_minor": 0,
  "metadata": {
    "colab": {
      "provenance": [],
      "collapsed_sections": [],
      "authorship_tag": "ABX9TyMG2ZaIWwKpQ+dLFcvFkS9W",
      "include_colab_link": true
    },
    "kernelspec": {
      "name": "python3",
      "display_name": "Python 3"
    },
    "language_info": {
      "name": "python"
    }
  },
  "cells": [
    {
      "cell_type": "markdown",
      "metadata": {
        "id": "view-in-github",
        "colab_type": "text"
      },
      "source": [
        "<a href=\"https://colab.research.google.com/github/sameerkhadka00/sameerkhadka00/blob/main/SAMIR2.ipynb\" target=\"_parent\"><img src=\"https://colab.research.google.com/assets/colab-badge.svg\" alt=\"Open In Colab\"/></a>"
      ]
    },
    {
      "cell_type": "code",
      "execution_count": null,
      "metadata": {
        "colab": {
          "base_uri": "https://localhost:8080/"
        },
        "id": "1hZCWwx9MwVR",
        "outputId": "34b3f2d3-ef2e-4a8b-c536-31e1ae3a6568"
      },
      "outputs": [
        {
          "output_type": "stream",
          "name": "stdout",
          "text": [
            "Even\n",
            "Odd\n"
          ]
        }
      ],
      "source": [
        "#Answer of 1\n",
        "def check_even_odd(n):\n",
        "  if n % 2 == 0:\n",
        "    print(\"Even\")\n",
        "  if n % 2 == 1:\n",
        "    print(\"Odd\")\n",
        "check_even_odd(10)  \n",
        "def check_even_odd(n):\n",
        "  if n % 2 == 0:\n",
        "    print(\"Even\")\n",
        "  if n % 2 == 1:\n",
        "    print(\"Odd\")\n",
        "check_even_odd(11) "
      ]
    },
    {
      "cell_type": "code",
      "source": [
        "#Answer of 2\n",
        "def number(n):\n",
        "  for i in range(n-1,0,-1):\n",
        "    if i % 2 == 1:\n",
        "      print(i)\n",
        "number(13)"
      ],
      "metadata": {
        "colab": {
          "base_uri": "https://localhost:8080/"
        },
        "id": "asArd8_ONeim",
        "outputId": "a31a9850-27fb-4d32-8ad5-00664e401dc9"
      },
      "execution_count": null,
      "outputs": [
        {
          "output_type": "stream",
          "name": "stdout",
          "text": [
            "11\n",
            "9\n",
            "7\n",
            "5\n",
            "3\n",
            "1\n"
          ]
        }
      ]
    },
    {
      "cell_type": "code",
      "source": [
        "#Answer of 3\n",
        "def number(n):\n",
        "  add = 0\n",
        "  for i in range(1,n+1):\n",
        "    if i % 2 == 1:\n",
        "      add += i\n",
        "  print(add)\n",
        "number(7)\n",
        "def number(n):\n",
        "  add = 0\n",
        "  for i in range(1,n+1):\n",
        "    if i % 2 == 1:\n",
        "      add += i\n",
        "  print(add)\n",
        "number(6)"
      ],
      "metadata": {
        "colab": {
          "base_uri": "https://localhost:8080/"
        },
        "id": "iqr2Qy6QPdRw",
        "outputId": "9fb7e87c-8c88-4e0e-fddc-fe8490f6a8d1"
      },
      "execution_count": null,
      "outputs": [
        {
          "output_type": "stream",
          "name": "stdout",
          "text": [
            "16\n",
            "9\n"
          ]
        }
      ]
    },
    {
      "cell_type": "code",
      "source": [
        "#Answer of 4\n",
        "def number(n):\n",
        "  add = 0\n",
        "  for i in range(1,n+1):\n",
        "    if i % 2 == 0:\n",
        "      add += i\n",
        "  print(add)\n",
        "number(6)"
      ],
      "metadata": {
        "colab": {
          "base_uri": "https://localhost:8080/"
        },
        "id": "cYLAz9NeQD8Q",
        "outputId": "8f0dcb8c-a943-4999-d269-f2af287b2a24"
      },
      "execution_count": null,
      "outputs": [
        {
          "output_type": "stream",
          "name": "stdout",
          "text": [
            "12\n"
          ]
        }
      ]
    },
    {
      "cell_type": "code",
      "source": [
        "#Answer of 5\n",
        "def enter_positive_only(n):\n",
        "  if n > 0 and n % 2 == 0:\n",
        "    for i in range (n,-1,-2):\n",
        "      print(i,end=\" \")\n",
        "  if n > 0 and n % 2 == 1:\n",
        "    for i in range(n,int(n/2),-2):\n",
        "      print(i,end=\" \")\n",
        "enter_positive_only(19)"
      ],
      "metadata": {
        "colab": {
          "base_uri": "https://localhost:8080/"
        },
        "id": "SvXJf6qtN5yj",
        "outputId": "0c382ab1-9009-4dcd-bc56-8be1df014dcf"
      },
      "execution_count": null,
      "outputs": [
        {
          "output_type": "stream",
          "name": "stdout",
          "text": [
            "19 17 15 13 11 "
          ]
        }
      ]
    },
    {
      "cell_type": "code",
      "source": [
        "#Answer of 6\n",
        "def smll_sqrsum(a,b,c):\n",
        "    x = max(a,b,c)\n",
        "    return (a*a + b*b + c*c) - (x*x) \n",
        "#Test\n",
        "print(smll_sqrsum(1,2,3))\n",
        "print(smll_sqrsum(-3,1,5))\n",
        "\n"
      ],
      "metadata": {
        "colab": {
          "base_uri": "https://localhost:8080/"
        },
        "id": "tQHgC8oDRBHu",
        "outputId": "dbbe25ec-0777-4489-b81f-5dddffe8a585"
      },
      "execution_count": null,
      "outputs": [
        {
          "output_type": "stream",
          "name": "stdout",
          "text": [
            "5\n",
            "10\n"
          ]
        }
      ]
    }
  ]
}