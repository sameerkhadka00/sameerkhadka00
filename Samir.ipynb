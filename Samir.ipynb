{
  "nbformat": 4,
  "nbformat_minor": 0,
  "metadata": {
    "colab": {
      "provenance": [],
      "collapsed_sections": [],
      "authorship_tag": "ABX9TyNPMG8F9s1NngaFXLwq+qW2",
      "include_colab_link": true
    },
    "kernelspec": {
      "name": "python3",
      "display_name": "Python 3"
    },
    "language_info": {
      "name": "python"
    }
  },
  "cells": [
    {
      "cell_type": "markdown",
      "metadata": {
        "id": "view-in-github",
        "colab_type": "text"
      },
      "source": [
        "<a href=\"https://colab.research.google.com/github/sameerkhadka00/sameerkhadka00/blob/main/Samir.ipynb\" target=\"_parent\"><img src=\"https://colab.research.google.com/assets/colab-badge.svg\" alt=\"Open In Colab\"/></a>"
      ]
    },
    {
      "cell_type": "code",
      "execution_count": null,
      "metadata": {
        "colab": {
          "base_uri": "https://localhost:8080/",
          "height": 130
        },
        "id": "yZsnTed_md54",
        "outputId": "902debac-c9c8-452c-8315-e7ed49473e56"
      },
      "outputs": [
        {
          "output_type": "error",
          "ename": "IndentationError",
          "evalue": "ignored",
          "traceback": [
            "\u001b[0;36m  File \u001b[0;32m\"<ipython-input-37-551a55d96019>\"\u001b[0;36m, line \u001b[0;32m2\u001b[0m\n\u001b[0;31m    print(bool(True and 1 / 0 and False))\u001b[0m\n\u001b[0m    ^\u001b[0m\n\u001b[0;31mIndentationError\u001b[0m\u001b[0;31m:\u001b[0m unexpected indent\n"
          ]
        }
      ],
      "source": [
        " #Answer of 1I\n",
        "  print(bool(True and 1 / 0 and False))"
      ]
    },
    {
      "cell_type": "code",
      "source": [
        "#Answer of 1II\n",
        "print(bool(True or 1 / 0 or False))"
      ],
      "metadata": {
        "colab": {
          "base_uri": "https://localhost:8080/"
        },
        "id": "wK27T-J7nfl-",
        "outputId": "1d705607-14c2-4741-885d-43cc8fc804fa"
      },
      "execution_count": null,
      "outputs": [
        {
          "output_type": "stream",
          "name": "stdout",
          "text": [
            "True\n"
          ]
        }
      ]
    },
    {
      "cell_type": "code",
      "source": [
        "#Answer of 1III\n",
        "print(bool(True and 0))"
      ],
      "metadata": {
        "colab": {
          "base_uri": "https://localhost:8080/"
        },
        "id": "gFPqJon7oGEg",
        "outputId": "47375ac4-0a1f-4304-da46-12a41099f66c"
      },
      "execution_count": null,
      "outputs": [
        {
          "output_type": "stream",
          "name": "stdout",
          "text": [
            "False\n"
          ]
        }
      ]
    },
    {
      "cell_type": "code",
      "source": [
        "#Answer of 1IV\n",
        "print(bool(False or 1))"
      ],
      "metadata": {
        "colab": {
          "base_uri": "https://localhost:8080/"
        },
        "id": "8N0ta4Z4oSsi",
        "outputId": "aab91512-b30c-409e-9e1b-3c5fe2742871"
      },
      "execution_count": null,
      "outputs": [
        {
          "output_type": "stream",
          "name": "stdout",
          "text": [
            "True\n"
          ]
        }
      ]
    },
    {
      "cell_type": "code",
      "source": [
        "#Answer of 1V\n",
        "print(bool(1 and 3 and 6 and 10 and 15))"
      ],
      "metadata": {
        "colab": {
          "base_uri": "https://localhost:8080/"
        },
        "id": "34XtCZ6dpBRN",
        "outputId": "3bf7ea8d-22ce-4ea5-fcd0-0fc7129dbd4f"
      },
      "execution_count": null,
      "outputs": [
        {
          "output_type": "stream",
          "name": "stdout",
          "text": [
            "True\n"
          ]
        }
      ]
    },
    {
      "cell_type": "code",
      "source": [
        "#Answer of 1VI\n",
        "print(bool(0 or False or 2 or 1 / 0))\n"
      ],
      "metadata": {
        "colab": {
          "base_uri": "https://localhost:8080/"
        },
        "id": "A17j9BVlpM_F",
        "outputId": "b4ed7587-a6ee-4962-8bc3-6fdc25d6d9ba"
      },
      "execution_count": null,
      "outputs": [
        {
          "output_type": "stream",
          "name": "stdout",
          "text": [
            "True\n"
          ]
        }
      ]
    },
    {
      "cell_type": "code",
      "source": [
        "#Answer of 2\n",
        "def welcome():\n",
        "         print('Welcome to', end=' ')\n",
        "         return 'Hello'\n",
        "def CS250():\n",
        "        print('CS250')\n",
        "        return 'Python'\n",
        "\n",
        "print(welcome(), CS250())"
      ],
      "metadata": {
        "colab": {
          "base_uri": "https://localhost:8080/"
        },
        "id": "NgklgEGvpvwP",
        "outputId": "22059d1b-7bc8-4eed-eb1c-6ad3ce86b70d"
      },
      "execution_count": null,
      "outputs": [
        {
          "output_type": "stream",
          "name": "stdout",
          "text": [
            "Welcome to CS250\n",
            "Hello Python\n"
          ]
        }
      ]
    },
    {
      "cell_type": "code",
      "source": [
        "#Answer of 3\n",
        "x = 6\n",
        "def foo1(x):\n",
        "        print(x)\n",
        "\n",
        "def foo2(x):\n",
        "        y = x\n",
        "        x = 7\n",
        "        print(x)\n",
        "y = foo1(x)\n",
        "foo2(x)\n",
        "y = foo1(8)"
      ],
      "metadata": {
        "colab": {
          "base_uri": "https://localhost:8080/"
        },
        "id": "G_d_hJcdqIHs",
        "outputId": "93d7f265-5551-4794-cdb8-ad61d611736d"
      },
      "execution_count": null,
      "outputs": [
        {
          "output_type": "stream",
          "name": "stdout",
          "text": [
            "6\n",
            "7\n",
            "8\n"
          ]
        }
      ]
    },
    {
      "cell_type": "code",
      "source": [
        "#Answer of 4\n",
        "def cake(batter): \n",
        "  return batter \n",
        "def pan(x, y): \n",
        " y = y + 20 \n",
        " return x(y) \n",
        "pan(print, 10)"
      ],
      "metadata": {
        "colab": {
          "base_uri": "https://localhost:8080/"
        },
        "id": "DOjpnQlOqwuW",
        "outputId": "0ffe2a51-c598-400e-8940-f773b11511ab"
      },
      "execution_count": null,
      "outputs": [
        {
          "output_type": "stream",
          "name": "stdout",
          "text": [
            "30\n"
          ]
        }
      ]
    },
    {
      "cell_type": "code",
      "source": [
        "#Answer of 6\n",
        "x = 10 \n",
        "def foo(): \n",
        " return x\n",
        "def bar(x): \n",
        " return x\n",
        "def foobar(new_value): \n",
        "  x = new_value \n",
        "  y = x + 1 \n",
        "  return x\n",
        "foo() \n",
        "bar(5) \n",
        "foobar(20)  \n"
      ],
      "metadata": {
        "colab": {
          "base_uri": "https://localhost:8080/"
        },
        "id": "ea26ewULre3U",
        "outputId": "b187b3cc-45f1-4aaa-cbba-b7a976817a87"
      },
      "execution_count": null,
      "outputs": [
        {
          "output_type": "execute_result",
          "data": {
            "text/plain": [
              "20"
            ]
          },
          "metadata": {},
          "execution_count": 23
        }
      ]
    },
    {
      "cell_type": "code",
      "source": [
        "#Answer of 7\n",
        "a = 1 \n",
        "def b(b): \n",
        " return a + b \n",
        "a = b(a) \n",
        "print(a)\n"
      ],
      "metadata": {
        "colab": {
          "base_uri": "https://localhost:8080/"
        },
        "id": "EhKjkcEksD7m",
        "outputId": "452cb437-1ae2-4f09-fcb0-e5a39b7ea481"
      },
      "execution_count": null,
      "outputs": [
        {
          "output_type": "stream",
          "name": "stdout",
          "text": [
            "2\n"
          ]
        }
      ]
    },
    {
      "cell_type": "code",
      "source": [
        "#Answer of 8\n",
        "from operator import add \n",
        "def sub(a, b): \n",
        " sub = add \n",
        " x = a - b\n",
        " return x\n",
        "add = sub \n",
        "sub = min \n",
        "print(add(2, sub(2, 3)))"
      ],
      "metadata": {
        "colab": {
          "base_uri": "https://localhost:8080/"
        },
        "id": "h5YPjpqKsZ8i",
        "outputId": "b2fc0697-4329-4f8b-dce3-735a6569f4f5"
      },
      "execution_count": null,
      "outputs": [
        {
          "output_type": "stream",
          "name": "stdout",
          "text": [
            "0\n"
          ]
        }
      ]
    },
    {
      "cell_type": "code",
      "source": [
        "#Answer of 9\n",
        "a = eval(input(\"Enter a number:\"))\n",
        "b = eval(input(\"Enter a number:\"))\n",
        "x = a + abs(b)\n",
        "print(x)"
      ],
      "metadata": {
        "colab": {
          "base_uri": "https://localhost:8080/"
        },
        "id": "A1G_Z16rt6qF",
        "outputId": "8830a7a7-62b6-4738-c57a-09d21fa73418"
      },
      "execution_count": null,
      "outputs": [
        {
          "output_type": "stream",
          "name": "stdout",
          "text": [
            "Enter a number:5\n",
            "Enter a number:-6\n",
            "11\n"
          ]
        }
      ]
    },
    {
      "cell_type": "code",
      "source": [
        "#Answer of 5\n",
        "from operator import sub, mul \n",
        "def print_sub(x, y): \n",
        "  print('sub') \n",
        "  return sub(x, y)\n",
        "def print_mul(x, y):\n",
        "  print('mul') \n",
        "  return mul(x, y)\n",
        "print_sub(print_mul(4, 504), 2)\n",
        "a = print_sub(print_mul(4, 504), 2)\n",
        "print(a)"
      ],
      "metadata": {
        "colab": {
          "base_uri": "https://localhost:8080/"
        },
        "id": "KpShcKXwupNy",
        "outputId": "9111ffd9-2d0a-4e4f-e0ac-8ae9d6322553"
      },
      "execution_count": null,
      "outputs": [
        {
          "output_type": "stream",
          "name": "stdout",
          "text": [
            "mul\n",
            "sub\n",
            "mul\n",
            "sub\n",
            "2014\n"
          ]
        }
      ]
    }
  ]
}