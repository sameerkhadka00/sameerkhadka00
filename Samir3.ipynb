{
  "nbformat": 4,
  "nbformat_minor": 0,
  "metadata": {
    "colab": {
      "provenance": [],
      "collapsed_sections": [],
      "authorship_tag": "ABX9TyNB7GDaTycsW71+Hb+BXhx+",
      "include_colab_link": true
    },
    "kernelspec": {
      "name": "python3",
      "display_name": "Python 3"
    },
    "language_info": {
      "name": "python"
    }
  },
  "cells": [
    {
      "cell_type": "markdown",
      "metadata": {
        "id": "view-in-github",
        "colab_type": "text"
      },
      "source": [
        "<a href=\"https://colab.research.google.com/github/sameerkhadka00/sameerkhadka00/blob/main/Samir3.ipynb\" target=\"_parent\"><img src=\"https://colab.research.google.com/assets/colab-badge.svg\" alt=\"Open In Colab\"/></a>"
      ]
    },
    {
      "cell_type": "code",
      "execution_count": null,
      "metadata": {
        "colab": {
          "base_uri": "https://localhost:8080/"
        },
        "id": "hvit9TxE3wBT",
        "outputId": "2fe081f3-abe8-41cb-b0f0-f4edd24c4f81"
      },
      "outputs": [
        {
          "output_type": "execute_result",
          "data": {
            "text/plain": [
              "True"
            ]
          },
          "metadata": {},
          "execution_count": 61
        }
      ],
      "source": [
        "#Answer of 1\n",
        "def is_equal(a,b,c):\n",
        "  if (a==b) and (a!=c):\n",
        "    return True\n",
        "  if (b==c) and (b!=a):\n",
        "    return True\n",
        "  if (a==c) and (a!=b):\n",
        "    return True\n",
        "  else:\n",
        "    return False\n",
        "is_equal(1,2,1)\n",
        "\n"
      ]
    },
    {
      "cell_type": "code",
      "source": [
        "#Answer of 2\n",
        "def diff(x,y,z):\n",
        "  if((x-y==z or y-x == z) or (x-z==y or z-x ==y) or (y-z==x or z-y==x)):\n",
        "    v=True\n",
        "  else:\n",
        "    v=False\n",
        "    return v\n",
        "diff(10,6,3)"
      ],
      "metadata": {
        "colab": {
          "base_uri": "https://localhost:8080/"
        },
        "id": "HAMxW0D1cIJ7",
        "outputId": "e2567dca-cec5-4813-e0b7-e9b2efb3136d"
      },
      "execution_count": null,
      "outputs": [
        {
          "output_type": "execute_result",
          "data": {
            "text/plain": [
              "False"
            ]
          },
          "metadata": {},
          "execution_count": 70
        }
      ]
    },
    {
      "cell_type": "code",
      "source": [
        "#Answer of 3\n",
        "def is_factor(x,y):\n",
        "  try:\n",
        "    if(y % x == 0):\n",
        "      v=True\n",
        "    else:\n",
        "      v=False\n",
        "  except:\n",
        "      v=False\n",
        "      return v\n",
        "is_factor(0,0)\n",
        "\n"
      ],
      "metadata": {
        "colab": {
          "base_uri": "https://localhost:8080/"
        },
        "id": "iGCOFIPo5JTk",
        "outputId": "80c9413a-36ef-43c4-cace-83ce192ac252"
      },
      "execution_count": null,
      "outputs": [
        {
          "output_type": "execute_result",
          "data": {
            "text/plain": [
              "False"
            ]
          },
          "metadata": {},
          "execution_count": 63
        }
      ]
    },
    {
      "cell_type": "code",
      "source": [
        "#Answer of 4\n",
        "def factors(n):\n",
        "  if(n>0):\n",
        "    for i in range(n,0,-1):\n",
        "      if(n %i==0):\n",
        "        print(i)\n",
        "  else:\n",
        "    print(\"Invalid Input!\")\n",
        "factors(7)\n",
        "\n",
        "\n",
        "\n",
        "\n",
        "\n"
      ],
      "metadata": {
        "colab": {
          "base_uri": "https://localhost:8080/"
        },
        "id": "UrBoT56s5nO3",
        "outputId": "d04b0bea-998e-4b11-e8b3-aea84ec66fcf"
      },
      "execution_count": null,
      "outputs": [
        {
          "output_type": "stream",
          "name": "stdout",
          "text": [
            "7\n",
            "1\n"
          ]
        }
      ]
    },
    {
      "cell_type": "code",
      "source": [
        "#Answer of 4\n",
        "def factors(n):\n",
        "  if(n>0):\n",
        "    for i in range(n,0,-1):\n",
        "      if(n %i==0):\n",
        "        print(i)\n",
        "  else:\n",
        "    print(\"Invalid Input!\")\n",
        "factors(12)\n",
        "\n"
      ],
      "metadata": {
        "colab": {
          "base_uri": "https://localhost:8080/"
        },
        "id": "KWsRruGM6Ap_",
        "outputId": "4c11de53-3b51-425b-c4d8-300505536564"
      },
      "execution_count": null,
      "outputs": [
        {
          "output_type": "stream",
          "name": "stdout",
          "text": [
            "12\n",
            "6\n",
            "4\n",
            "3\n",
            "2\n",
            "1\n"
          ]
        }
      ]
    },
    {
      "cell_type": "code",
      "source": [
        "#Answer of 5\n",
        "def lrgst_fact(n):\n",
        "  if(n>1):\n",
        "    for i in range(n-1,0,-1):\n",
        "      if(n % i == 0):\n",
        "        print(i)\n",
        "        break\n",
        "  else:\n",
        "    print(\"Invalid!\")\n",
        "lrgst_fact(80)\n"
      ],
      "metadata": {
        "colab": {
          "base_uri": "https://localhost:8080/"
        },
        "id": "fvNPovCA6HgZ",
        "outputId": "59da2364-4f1d-4fc0-aefd-145212d370ca"
      },
      "execution_count": null,
      "outputs": [
        {
          "output_type": "stream",
          "name": "stdout",
          "text": [
            "40\n"
          ]
        }
      ]
    },
    {
      "cell_type": "code",
      "source": [
        "#Answer of 5\n",
        "def lrgst_fact(n):\n",
        "  if(n>1):\n",
        "    for i in range(n-1,0,-1):\n",
        "      if(n % i == 0):\n",
        "        print(i)\n",
        "        break\n",
        "  else:\n",
        "    print(\"Invalid!\")\n",
        "lrgst_fact(15)\n"
      ],
      "metadata": {
        "colab": {
          "base_uri": "https://localhost:8080/"
        },
        "id": "1OyEe6Lg6XWt",
        "outputId": "38b7330b-96b3-4122-cc76-4379c1f47e0a"
      },
      "execution_count": null,
      "outputs": [
        {
          "output_type": "stream",
          "name": "stdout",
          "text": [
            "5\n"
          ]
        }
      ]
    }
  ]
}